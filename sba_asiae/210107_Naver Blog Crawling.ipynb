{
 "cells": [
  {
   "cell_type": "markdown",
   "metadata": {},
   "source": [
    "# 0 step. 준비사항"
   ]
  },
  {
   "cell_type": "markdown",
   "metadata": {},
   "source": [
    "### 1) 필요 라이브러리 설치\n",
    "- selenium : 웹 브라우저의 자동화 라이브러리\n",
    "- tqdm : tqdm means \"progress\" in Arabic. make your loops show a smart progress meter\n",
    "- times : .sleep 함수를 활용하여 데이터 응답 대기시간 "
   ]
  },
  {
   "cell_type": "code",
   "execution_count": 3,
   "metadata": {},
   "outputs": [
    {
     "name": "stdout",
     "output_type": "stream",
     "text": [
      "Collecting selenium\n",
      "  Using cached selenium-3.141.0-py2.py3-none-any.whl (904 kB)\n",
      "Collecting urllib3\n",
      "  Downloading urllib3-1.26.2-py2.py3-none-any.whl (136 kB)\n",
      "Installing collected packages: urllib3, selenium\n",
      "Successfully installed selenium-3.141.0 urllib3-1.26.2\n",
      "Requirement already satisfied: tqdm in c:\\anaconda3\\envs\\sba\\lib\\site-packages (4.55.1)\n",
      "Requirement already satisfied: times in c:\\anaconda3\\envs\\sba\\lib\\site-packages (0.7)\n",
      "Requirement already satisfied: arrow in c:\\anaconda3\\envs\\sba\\lib\\site-packages (from times) (0.17.0)\n",
      "Requirement already satisfied: python-dateutil>=2.7.0 in c:\\anaconda3\\envs\\sba\\lib\\site-packages (from arrow->times) (2.8.1)\n",
      "Requirement already satisfied: six>=1.5 in c:\\anaconda3\\envs\\sba\\lib\\site-packages (from python-dateutil>=2.7.0->arrow->times) (1.15.0)\n"
     ]
    }
   ],
   "source": [
    "!pip install selenium \n",
    "!pip install tqdm \n",
    "!pip install times"
   ]
  },
  {
   "cell_type": "markdown",
   "metadata": {},
   "source": [
    "### 2) 크롬 드라이버 설치"
   ]
  },
  {
   "cell_type": "markdown",
   "metadata": {},
   "source": [
    "① PC 크롬 브라우저 버전확인 (설정 > 좌측하단 Chrome 정보 선택)  \n",
    "② 브라우저 버전에 맞는 크롬 드라이버 선택 (https://chromedriver.chromium.org/downloads)  <br/>\n",
    "③ OS에 맞는 실행파일 다운   \n",
    "④ 다운받은 파일 zip 해제 후, 크롤링 실행 파일 위치 내 복사해두기  "
   ]
  },
  {
   "cell_type": "markdown",
   "metadata": {},
   "source": [
    "## 1 step. 크롤링"
   ]
  },
  {
   "cell_type": "code",
   "execution_count": null,
   "metadata": {},
   "outputs": [],
   "source": []
  }
 ],
 "metadata": {
  "kernelspec": {
   "display_name": "sba",
   "language": "python",
   "name": "sba"
  },
  "language_info": {
   "codemirror_mode": {
    "name": "ipython",
    "version": 3
   },
   "file_extension": ".py",
   "mimetype": "text/x-python",
   "name": "python",
   "nbconvert_exporter": "python",
   "pygments_lexer": "ipython3",
   "version": "3.6.12"
  }
 },
 "nbformat": 4,
 "nbformat_minor": 4
}
